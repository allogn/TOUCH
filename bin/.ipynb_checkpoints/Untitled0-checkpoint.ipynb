{
 "metadata": {
  "name": ""
 },
 "nbformat": 3,
 "nbformat_minor": 0,
 "worksheets": [
  {
   "cells": [
    {
     "cell_type": "code",
     "collapsed": false,
     "input": [
      "import csv\n",
      "import numpy as np\n",
      "import matplotlib.pyplot as plt\n",
      "with open('SJ.csv', 'rb') as csvfile:\n",
      "    spamreader = csv.reader(csvfile, delimiter=',', quotechar='|')\n",
      "    objnum = []\n",
      "    touchtime = []\n",
      "    ctouchtime = []\n",
      "    retouchtime = []\n",
      "    epsilons = []\n",
      "    resultsnum = []\n",
      "    sampleeps = -1\n",
      "    objnummax = -1\n",
      "    for row in spamreader:\n",
      "        if (sampleeps == -1 and row[0] != 'Algorithm'):\n",
      "            sampleeps = row[1]\n",
      "            objnummax = row[2]\n",
      "        if (row[0] == 'TOUCH' and (row[1] == sampleeps)):\n",
      "            objnum.insert(0,int(row[2]))\n",
      "            touchtime.insert(0,float(row[22]))\n",
      "        if (row[0] == 'cTOUCH' and (row[1] == sampleeps)):\n",
      "            ctouchtime.insert(0,float(row[22]))\n",
      "        if (row[0] == 'reTOUCH' and (row[1] == sampleeps)):\n",
      "            retouchtime.insert(0,float(row[22]))\n",
      "        if (row[0] == 'TOUCH' and (row[2] == objnummax)):\n",
      "            epsilons.insert(0,int(row[1]))\n",
      "            resultsnum.insert(0,int(row[14]))\n",
      "            \n",
      "print objnum\n",
      "print touchtime\n",
      "print retouchtime\n",
      "print ctouchtime\n",
      "print epsilons\n",
      "print resultsnum"
     ],
     "language": "python",
     "metadata": {},
     "outputs": [
      {
       "output_type": "stream",
       "stream": "stdout",
       "text": [
        "[8000, 7000, 6000, 5000]\n",
        "[0.04, 0.026, 0.025, 0.02]\n",
        "[0.015, 0.011, 0.01, 0.009]\n",
        "[0.617, 0.533, 0.721, 0.205]\n",
        "[50, 35, 20, 5]\n",
        "[674, 457, 229, 62]\n"
       ]
      }
     ],
     "prompt_number": 28
    },
    {
     "cell_type": "code",
     "collapsed": false,
     "input": [
      "import matplotlib.pyplot as plt\n",
      "frc_out= 'timings.png'\n",
      "mae_out = 'resultnum.png'\n",
      "\n",
      "t, = plt.plot(objnum,touchtime,label='TOUCH'); \n",
      "ct, = plt.plot(objnum,ctouchtime,label='cTOUCH'); \n",
      "rt, = plt.plot(objnum,retouchtime,label='reTOUCH'); \n",
      "plt.xlabel('Spatial object number, x');\n",
      "plt.ylabel('Time [s], y');\n",
      "plt.legend([t, ct, rt], ['TOUCH', 'cTOUCH', 'reTOUCH'])\n",
      "plt.savefig(frc_out)"
     ],
     "language": "python",
     "metadata": {},
     "outputs": [
      {
       "metadata": {},
       "output_type": "display_data",
       "png": "[encoded data removed]",
       "text": [
        "<matplotlib.figure.Figure at 0x7f9201d4b290>"
       ]
      }
     ],
     "prompt_number": 44
    },
    {
     "cell_type": "code",
     "collapsed": false,
     "input": [
      "a"
     ],
     "language": "python",
     "metadata": {},
     "outputs": [
      {
       "metadata": {},
       "output_type": "pyout",
       "prompt_number": 13,
       "text": [
        "[2, 1]"
       ]
      }
     ],
     "prompt_number": 13
    },
    {
     "cell_type": "code",
     "collapsed": false,
     "input": [],
     "language": "python",
     "metadata": {},
     "outputs": []
    }
   ],
   "metadata": {}
  }
 ]
}